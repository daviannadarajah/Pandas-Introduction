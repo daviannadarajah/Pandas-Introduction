{
 "cells": [
  {
   "cell_type": "markdown",
   "metadata": {},
   "source": [
    "# Opening CSV files with Pandas and saving into a Dataframe\n",
    "\n",
    "\n"
   ]
  },
  {
   "cell_type": "markdown",
   "metadata": {},
   "source": [
    "Use `pd.read_csv` to open files with a filepath or URL and save into a dataframe (df). \n",
    "\n",
    "Full documentation on `read_csv` is [here](https://pandas.pydata.org/pandas-docs/stable/generated/pandas.read_csv.html)."
   ]
  },
  {
   "cell_type": "markdown",
   "metadata": {},
   "source": [
    "### Reading a CSV file in your home directory\n",
    "\n",
    "**Scenario:** Read and save a csv file containing data on domestic airlines \"On Time Performance\" in Australia into a Dataframe."
   ]
  },
  {
   "cell_type": "code",
   "execution_count": 10,
   "metadata": {},
   "outputs": [],
   "source": [
    "# import packages\n",
    "import pandas as pd\n",
    "\n",
    "# read the file and save to the Dataframe. Assumes file is in your home directory.\n",
    "df = pd.read_csv('otptimeseriesweb.csv')"
   ]
  },
  {
   "cell_type": "markdown",
   "metadata": {},
   "source": [
    "Use `DataFrame.head()` to get a peak of the first five rows to see if it has been imported and formatted correctly. \n"
   ]
  },
  {
   "cell_type": "code",
   "execution_count": 8,
   "metadata": {},
   "outputs": [
    {
     "data": {
      "text/html": [
       "<div>\n",
       "<style scoped>\n",
       "    .dataframe tbody tr th:only-of-type {\n",
       "        vertical-align: middle;\n",
       "    }\n",
       "\n",
       "    .dataframe tbody tr th {\n",
       "        vertical-align: top;\n",
       "    }\n",
       "\n",
       "    .dataframe thead th {\n",
       "        text-align: right;\n",
       "    }\n",
       "</style>\n",
       "<table border=\"1\" class=\"dataframe\">\n",
       "  <thead>\n",
       "    <tr style=\"text-align: right;\">\n",
       "      <th></th>\n",
       "      <th>Route</th>\n",
       "      <th>Departing_Port</th>\n",
       "      <th>Arriving_Port</th>\n",
       "      <th>Airline</th>\n",
       "      <th>Month</th>\n",
       "      <th>Sectors_Scheduled</th>\n",
       "      <th>Sectors_Flown</th>\n",
       "      <th>Cancellations</th>\n",
       "      <th>Departures_On_Time</th>\n",
       "      <th>Arrivals_On_Time</th>\n",
       "      <th>Departures_Delayed</th>\n",
       "      <th>Arrivals_Delayed</th>\n",
       "      <th>Year</th>\n",
       "      <th>Month_Num</th>\n",
       "    </tr>\n",
       "  </thead>\n",
       "  <tbody>\n",
       "    <tr>\n",
       "      <th>0</th>\n",
       "      <td>Adelaide-Brisbane</td>\n",
       "      <td>Adelaide</td>\n",
       "      <td>Brisbane</td>\n",
       "      <td>All Airlines</td>\n",
       "      <td>37987</td>\n",
       "      <td>155.0</td>\n",
       "      <td>155</td>\n",
       "      <td>0.0</td>\n",
       "      <td>123.0</td>\n",
       "      <td>120.0</td>\n",
       "      <td>32.0</td>\n",
       "      <td>35.0</td>\n",
       "      <td>2004</td>\n",
       "      <td>1</td>\n",
       "    </tr>\n",
       "    <tr>\n",
       "      <th>1</th>\n",
       "      <td>Adelaide-Canberra</td>\n",
       "      <td>Adelaide</td>\n",
       "      <td>Canberra</td>\n",
       "      <td>All Airlines</td>\n",
       "      <td>37987</td>\n",
       "      <td>75.0</td>\n",
       "      <td>75</td>\n",
       "      <td>0.0</td>\n",
       "      <td>72.0</td>\n",
       "      <td>72.0</td>\n",
       "      <td>3.0</td>\n",
       "      <td>3.0</td>\n",
       "      <td>2004</td>\n",
       "      <td>1</td>\n",
       "    </tr>\n",
       "    <tr>\n",
       "      <th>2</th>\n",
       "      <td>Adelaide-Gold Coast</td>\n",
       "      <td>Adelaide</td>\n",
       "      <td>Gold Coast</td>\n",
       "      <td>All Airlines</td>\n",
       "      <td>37987</td>\n",
       "      <td>40.0</td>\n",
       "      <td>40</td>\n",
       "      <td>0.0</td>\n",
       "      <td>36.0</td>\n",
       "      <td>35.0</td>\n",
       "      <td>4.0</td>\n",
       "      <td>5.0</td>\n",
       "      <td>2004</td>\n",
       "      <td>1</td>\n",
       "    </tr>\n",
       "    <tr>\n",
       "      <th>3</th>\n",
       "      <td>Adelaide-Melbourne</td>\n",
       "      <td>Adelaide</td>\n",
       "      <td>Melbourne</td>\n",
       "      <td>All Airlines</td>\n",
       "      <td>37987</td>\n",
       "      <td>550.0</td>\n",
       "      <td>548</td>\n",
       "      <td>2.0</td>\n",
       "      <td>478.0</td>\n",
       "      <td>487.0</td>\n",
       "      <td>70.0</td>\n",
       "      <td>61.0</td>\n",
       "      <td>2004</td>\n",
       "      <td>1</td>\n",
       "    </tr>\n",
       "    <tr>\n",
       "      <th>4</th>\n",
       "      <td>Adelaide-Perth</td>\n",
       "      <td>Adelaide</td>\n",
       "      <td>Perth</td>\n",
       "      <td>All Airlines</td>\n",
       "      <td>37987</td>\n",
       "      <td>191.0</td>\n",
       "      <td>191</td>\n",
       "      <td>0.0</td>\n",
       "      <td>169.0</td>\n",
       "      <td>168.0</td>\n",
       "      <td>22.0</td>\n",
       "      <td>23.0</td>\n",
       "      <td>2004</td>\n",
       "      <td>1</td>\n",
       "    </tr>\n",
       "  </tbody>\n",
       "</table>\n",
       "</div>"
      ],
      "text/plain": [
       "                 Route Departing_Port Arriving_Port       Airline  Month  \\\n",
       "0    Adelaide-Brisbane       Adelaide      Brisbane  All Airlines  37987   \n",
       "1    Adelaide-Canberra       Adelaide      Canberra  All Airlines  37987   \n",
       "2  Adelaide-Gold Coast       Adelaide    Gold Coast  All Airlines  37987   \n",
       "3   Adelaide-Melbourne       Adelaide     Melbourne  All Airlines  37987   \n",
       "4       Adelaide-Perth       Adelaide         Perth  All Airlines  37987   \n",
       "\n",
       "   Sectors_Scheduled  Sectors_Flown  Cancellations  Departures_On_Time  \\\n",
       "0              155.0            155            0.0               123.0   \n",
       "1               75.0             75            0.0                72.0   \n",
       "2               40.0             40            0.0                36.0   \n",
       "3              550.0            548            2.0               478.0   \n",
       "4              191.0            191            0.0               169.0   \n",
       "\n",
       "   Arrivals_On_Time  Departures_Delayed  Arrivals_Delayed  Year  Month_Num  \n",
       "0             120.0                32.0              35.0  2004          1  \n",
       "1              72.0                 3.0               3.0  2004          1  \n",
       "2              35.0                 4.0               5.0  2004          1  \n",
       "3             487.0                70.0              61.0  2004          1  \n",
       "4             168.0                22.0              23.0  2004          1  "
      ]
     },
     "execution_count": 8,
     "metadata": {},
     "output_type": "execute_result"
    }
   ],
   "source": [
    "df.head()"
   ]
  },
  {
   "cell_type": "markdown",
   "metadata": {},
   "source": [
    "The output looks good. Notice that the columns have names (or headings/labels) and the rows have numbers. If you do not specify any row (or column) names then by default Pandas will assign row and/or column index numbers. Pandas uses zero-based indexing which means the first row is 0, the second row is 1, etc. This is important to know for referencing and indexing data."
   ]
  },
  {
   "cell_type": "markdown",
   "metadata": {},
   "source": [
    "### Data separators (or delimiters)\n",
    "\n",
    "Note that the csv file has \"comma separated values\". By default, the `read_csv` assumes commas are used as delimiters by default. However, if you have a different separator such as a semi-colon, then you need to use:"
   ]
  },
  {
   "cell_type": "code",
   "execution_count": null,
   "metadata": {},
   "outputs": [],
   "source": [
    "# Specify the separator (or delimiter)\n",
    "df = pd.read_csv('otptimeseriesweb.csv', sep=';')"
   ]
  },
  {
   "cell_type": "markdown",
   "metadata": {},
   "source": [
    "### Reading CSV files with a filepath\n",
    "\n",
    "If your file is not in your home directory, you need to specify its file location as below:"
   ]
  },
  {
   "cell_type": "code",
   "execution_count": null,
   "metadata": {},
   "outputs": [],
   "source": [
    "# Note the orientation of the filepath is '/'. It is not a '\\'.\n",
    "df = pd.read_csv('C:/Users/User1/datasets/otptimeseriesweb.csv')  "
   ]
  },
  {
   "cell_type": "markdown",
   "metadata": {},
   "source": [
    "### Reading CSV files with a URL\n",
    "This is done the same way except you just specify the URL as below:"
   ]
  },
  {
   "cell_type": "code",
   "execution_count": 12,
   "metadata": {},
   "outputs": [],
   "source": [
    "# Specify the URL\n",
    "df = pd.read_csv('https://data.gov.au/dataset/29128ebd-dbaa-4ff5-8b86-d9f30de56452/resource/cf663ed1-0c5e-497f-aea9-e74bfda9cf44/download/otptimeseriesweb.csv')"
   ]
  }
 ],
 "metadata": {
  "kernelspec": {
   "display_name": "Python [default]",
   "language": "python",
   "name": "python3"
  },
  "language_info": {
   "codemirror_mode": {
    "name": "ipython",
    "version": 3
   },
   "file_extension": ".py",
   "mimetype": "text/x-python",
   "name": "python",
   "nbconvert_exporter": "python",
   "pygments_lexer": "ipython3",
   "version": "3.6.4"
  }
 },
 "nbformat": 4,
 "nbformat_minor": 2
}
